{
 "cells": [
  {
   "cell_type": "code",
   "execution_count": 18,
   "id": "212c10ea",
   "metadata": {},
   "outputs": [],
   "source": [
    "import pandas as pd\n",
    "import re\n",
    "from selenium import webdriver\n",
    "from selenium.webdriver.common.keys import Keys\n"
   ]
  },
  {
   "cell_type": "code",
   "execution_count": 19,
   "id": "6cd5e7b2",
   "metadata": {},
   "outputs": [],
   "source": [
    "browser= webdriver.Chrome(\"C:/Users/dell/Desktop/chromedriver.exe\")\n",
    "browser.maximize_window()\n",
    "browser.implicitly_wait(20)\n",
    "browser.get(\"http://www.linkedin.com\")"
   ]
  },
  {
   "cell_type": "code",
   "execution_count": 21,
   "id": "13be91d8",
   "metadata": {},
   "outputs": [],
   "source": [
    "username=browser.find_element_by_xpath('//*[@id=\"session_key\"]')\n",
    "username.send_keys(\"rahullakebrains@gmail.com\")\n",
    "password=browser.find_element_by_xpath('//*[@id=\"session_password\"]')\n",
    "password.send_keys(\"Wakalkar@123\")"
   ]
  },
  {
   "cell_type": "code",
   "execution_count": 23,
   "id": "9bf54801",
   "metadata": {},
   "outputs": [],
   "source": [
    "log_in_button= browser.find_element_by_xpath('//*[@id=\"main-content\"]/section[1]/div/div/form/button')\n",
    "log_in_button.click()\n",
    "browser.implicitly_wait(1)"
   ]
  },
  {
   "cell_type": "code",
   "execution_count": 24,
   "id": "7b191a0c",
   "metadata": {},
   "outputs": [
    {
     "name": "stdout",
     "output_type": "stream",
     "text": [
      "[{'domain': '.linkedin.com', 'expiry': 1637035069, 'httpOnly': False, 'name': 'lidc', 'path': '/', 'sameSite': 'None', 'secure': True, 'value': '\"b=TB12:s=T:r=T:a=T:p=T:g=4053:u=8:x=1:i=1636982319:t=1637035067:v=2:sig=AQGN0MqEWOq07GxfQGzzIfpd7eIuOETe\"'}, {'domain': '.linkedin.com', 'expiry': 1652534300, 'httpOnly': False, 'name': 'AMCV_14215E3D5995C57C0A495C55%40AdobeOrg', 'path': '/', 'secure': False, 'value': '-637568504%7CMCIDTS%7C18947%7CMCMID%7C50447906274120002982538547221455746958%7CMCAAMLH-1637587100%7C12%7CMCAAMB-1637587100%7C6G1ynYcLPuiQxYZrsz_pkqfLG9yMXBpb2zX5dvJdYQJzPXImdj0y%7CMCOPTOUT-1636989500s%7CNONE%7CvVersion%7C5.1.1%7CMCCIDH%7C188522571'}, {'domain': '.linkedin.com', 'expiry': 1639574299, 'httpOnly': False, 'name': 'lms_ads', 'path': '/', 'sameSite': 'None', 'secure': True, 'value': 'AQHQd-5Y_MxtyQAAAX0jv5VMvdaM2Wp2cBTLvVPPHrtQCOW64kYYDqJta_06q8NWnQL6iRyy2N-XN3YMmFQUV9Yz_i55bqxs'}, {'domain': '.linkedin.com', 'expiry': 1639574316, 'httpOnly': False, 'name': 'UserMatchHistory', 'path': '/', 'sameSite': 'None', 'secure': True, 'value': 'AQKo948v1K7z0AAAAX0jv9hoq7IQnk-RfXEed3fHZbo9XG43Qbw-7v12yzOkK-mcQoSpYAsRLEBdAWn4NCLARY1Sha-Q-RbwI8fY7KdP723u4v1FzxpjPshNemfYt0bFsOTVxXOOQo-MOEvxeH2Wgb-AnN-Hql4vgQWRMnqkqimY6_h25VVOgzSaJk2WgIUOedalNf6U8xPzQTIZfzRsZkwHiFfwMNYA488Y00ZXjC5Ge9PA7bwRJ75LwYi3KdMKsTcHkiBMpRwvN96jOe5uX7Cys8EouOOb8mTksRk'}, {'domain': '.linkedin.com', 'expiry': 1639574298, 'httpOnly': False, 'name': 'AnalyticsSyncHistory', 'path': '/', 'sameSite': 'None', 'secure': True, 'value': 'AQIxPx73_WaMDQAAAX0jv5OAF9zhdFH2rlnHT8YbSSHgsU6RFJVZQBIbtI27qUwTuoJ4EA3HKJK8QS01ltbS0g'}, {'domain': '.linkedin.com', 'expiry': 1644758298, 'httpOnly': False, 'name': '_guid', 'path': '/', 'sameSite': 'None', 'secure': True, 'value': '46e226e8-cf80-4f9b-ba39-236957662158'}, {'domain': '.www.linkedin.com', 'expiry': 1668518282, 'httpOnly': True, 'name': 'li_at', 'path': '/', 'sameSite': 'None', 'secure': True, 'value': 'AQEDATh0T9gB9wtPAAABfSO_U-QAAAF9R8vX5E0ADSnzV4OdEOWxyqEdRhCfq7tKIuF_W3uIgAOwJopjp4xOiw7NRLtiGmqdiSlBiEMHZczr6CfqeTnRv4ikDb5aMfBvmNRh90C8CRpOJ-1lch-NELb3'}, {'domain': '.www.linkedin.com', 'expiry': 1700095936, 'httpOnly': True, 'name': 'bscookie', 'path': '/', 'sameSite': 'None', 'secure': True, 'value': '\"v=1&20211115131443dcf9a9ad-040d-45c4-8d37-4f62fc1cdb22AQEGnrJQu38a-K3pgYg2RNtUjxQoqEaG\"'}, {'domain': '.linkedin.com', 'expiry': 1644758282, 'httpOnly': False, 'name': 'liap', 'path': '/', 'sameSite': 'None', 'secure': True, 'value': 'true'}, {'domain': '.linkedin.com', 'httpOnly': False, 'name': 'lang', 'path': '/', 'sameSite': 'None', 'secure': True, 'value': 'v=2&lang=en-us'}, {'domain': '.linkedin.com', 'expiry': 1639574299, 'httpOnly': False, 'name': 'lms_analytics', 'path': '/', 'sameSite': 'None', 'secure': True, 'value': 'AQHQd-5Y_MxtyQAAAX0jv5VMvdaM2Wp2cBTLvVPPHrtQCOW64kYYDqJta_06q8NWnQL6iRyy2N-XN3YMmFQUV9Yz_i55bqxs'}, {'domain': '.www.linkedin.com', 'expiry': 1700054086, 'httpOnly': False, 'name': 'G_ENABLED_IDPS', 'path': '/', 'secure': False, 'value': 'google'}, {'domain': '.linkedin.com', 'expiry': 1644758321, 'httpOnly': False, 'name': 'li_sugr', 'path': '/', 'sameSite': 'None', 'secure': True, 'value': '2aa33ff4-1227-443c-b8ac-abcd1cc1f805'}, {'domain': '.linkedin.com', 'expiry': 1700095936, 'httpOnly': False, 'name': 'bcookie', 'path': '/', 'sameSite': 'None', 'secure': True, 'value': '\"v=2&3f396bcd-70ca-45b4-85b1-ce121667ed95\"'}, {'domain': '.www.linkedin.com', 'expiry': 1638191914, 'httpOnly': False, 'name': 'timezone', 'path': '/', 'secure': True, 'value': 'America/Indianapolis'}, {'domain': '.www.linkedin.com', 'expiry': 1644758282, 'httpOnly': False, 'name': 'JSESSIONID', 'path': '/', 'sameSite': 'None', 'secure': True, 'value': '\"ajax:7805117093668991667\"'}, {'domain': '.linkedin.com', 'expiry': 1639574300, 'httpOnly': False, 'name': 'aam_uuid', 'path': '/', 'secure': False, 'value': '51019070072788290252591139902177297477'}, {'domain': '.linkedin.com', 'httpOnly': False, 'name': 'AMCVS_14215E3D5995C57C0A495C55%40AdobeOrg', 'path': '/', 'secure': False, 'value': '1'}]\n"
     ]
    }
   ],
   "source": [
    "browser.get(\"http://www.linkedin.com\")\n",
    "print(browser.get_cookies())"
   ]
  },
  {
   "cell_type": "markdown",
   "id": "121df594",
   "metadata": {},
   "source": [
    "# retriving cookies"
   ]
  },
  {
   "cell_type": "code",
   "execution_count": 25,
   "id": "87341ac1",
   "metadata": {},
   "outputs": [
    {
     "name": "stdout",
     "output_type": "stream",
     "text": [
      "{'bcookie': '\"v=2&bc156ed8-3a2a-436c-8bf0-2218a7a79cb4\"', 'lang': 'v=2&lang=en-us', 'lidc': '\"b=OGST09:s=O:r=O:a=O:p=O:g=2125:u=1:x=1:i=1636982339:t=1637068739:v=2:sig=AQFzYkVgpjSrN8a0ugIUQ7S2YJoSVQa2\"', 'JSESSIONID': 'ajax:8748016870084831937', 'bscookie': '\"v=1&202111151318595a9ebd34-ea00-46a0-8c29-77fbdafc80f9AQGY5boby8YRTePp1OlpAptfPPfQmzhW\"'}\n"
     ]
    }
   ],
   "source": [
    "\n",
    "import requests\n",
    "  \n",
    "# initialize a session\n",
    "session = requests.Session()\n",
    "  \n",
    "# send a get request to the server\n",
    "response = session.get(\"http://www.linkedin.com\")\n",
    "  \n",
    "# print the response dictionary\n",
    "print(session.cookies.get_dict())"
   ]
  },
  {
   "cell_type": "code",
   "execution_count": 26,
   "id": "08c6660b",
   "metadata": {},
   "outputs": [],
   "source": [
    "import requests, pickle\n",
    "session = requests.session()\n",
    "# Make some calls\n",
    "with open('somefile', 'wb') as f:\n",
    "    pickle.dump(session.cookies, f)"
   ]
  },
  {
   "cell_type": "markdown",
   "id": "07c29de1",
   "metadata": {},
   "source": [
    "import pickle\n",
    "import selenium.webdriver \n",
    "\n",
    "driver = selenium.webdriver.Firefox()\n",
    "driver.get(\"http://www.linkedin.com\")\n",
    "pickle.dump( driver.get_cookies() , open(\"cookies.pkl\",\"wb\"))"
   ]
  },
  {
   "cell_type": "code",
   "execution_count": 27,
   "id": "065bcc46",
   "metadata": {},
   "outputs": [],
   "source": [
    "browser.get(\"https://www.linkedin.com/mynetwork/invitation-manager/sent/\")"
   ]
  },
  {
   "cell_type": "markdown",
   "id": "c8926671",
   "metadata": {},
   "source": [
    "withdraw= browser.find_elements_by_class_name(\"artdeco-button_text\")\n",
    "c=[]\n",
    "for i in withdraw:\n",
    "    c.append(i.text)\n",
    "    print(c)\n",
    "    print()\n",
    "    print(len(c))"
   ]
  },
  {
   "cell_type": "code",
   "execution_count": 28,
   "id": "a51bc637",
   "metadata": {},
   "outputs": [],
   "source": [
    "withdraw_button= browser.find_element_by_xpath(\"//div[contains(@class,'invitation-card__action')]\")\n",
    "withdraw_button.click()\n",
    "#browser.imlicitly_wait(1)"
   ]
  },
  {
   "cell_type": "code",
   "execution_count": 32,
   "id": "32206f88",
   "metadata": {},
   "outputs": [],
   "source": [
    "button = browser.find_element_by_xpath('//*[@id=\"ember157\"]/span')\n",
    "button.click()"
   ]
  },
  {
   "cell_type": "code",
   "execution_count": null,
   "id": "7155b9a9",
   "metadata": {},
   "outputs": [],
   "source": []
  }
 ],
 "metadata": {
  "kernelspec": {
   "display_name": "Python 3",
   "language": "python",
   "name": "python3"
  },
  "language_info": {
   "codemirror_mode": {
    "name": "ipython",
    "version": 3
   },
   "file_extension": ".py",
   "mimetype": "text/x-python",
   "name": "python",
   "nbconvert_exporter": "python",
   "pygments_lexer": "ipython3",
   "version": "3.8.8"
  }
 },
 "nbformat": 4,
 "nbformat_minor": 5
}

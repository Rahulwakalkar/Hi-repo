{
 "cells": [
  {
   "cell_type": "code",
   "execution_count": 13,
   "id": "21063a96",
   "metadata": {},
   "outputs": [],
   "source": [
    "import pandas as pd \n",
    "import numpy as np \n",
    "import requests\n",
    "from bs4 import BeautifulSoup\n",
    "import urllib as ur\n",
    "from selenium import webdriver\n",
    "import pickle\n",
    "import time"
   ]
  },
  {
   "cell_type": "code",
   "execution_count": 14,
   "id": "c9d552d8",
   "metadata": {},
   "outputs": [],
   "source": [
    "def save_cookies(driver, cookies_location):\n",
    "\n",
    "    pickle.dump(driver.get_cookies(), open(cookies_location, \"wb\"))"
   ]
  },
  {
   "cell_type": "code",
   "execution_count": 15,
   "id": "133db267",
   "metadata": {},
   "outputs": [],
   "source": [
    "def load_cookies(driver, cookies_location):\n",
    "\n",
    "    cookies = pickle.load(open(cookies_location, \"rb\"))\n",
    "    driver.delete_all_cookies() \n",
    "    driver.get(\"https://linkedin.com\")\n",
    "    for cookie in cookies:\n",
    "            driver.add_cookie(cookie) \n",
    "        "
   ]
  },
  {
   "cell_type": "code",
   "execution_count": 16,
   "id": "d4205913",
   "metadata": {},
   "outputs": [],
   "source": [
    "driver = webdriver.Chrome(executable_path = \"C:/Users/dell/Desktop/chromedriver.exe\")\n",
    "\n",
    "cookies_location = (\"C:/Users/dell/Desktop/cookies.pkl\")\n",
    "\n",
    "driver.get('https://www.linkedin.com')\n"
   ]
  },
  {
   "cell_type": "code",
   "execution_count": 17,
   "id": "37fe88a7",
   "metadata": {},
   "outputs": [],
   "source": [
    "\n",
    "Email = driver.find_element_by_xpath('//*[@id=\"session_key\"]')\n",
    "Email.send_keys('rahullakebrains@gmail.com')\n",
    "\n",
    "password = driver.find_element_by_xpath('//*[@id=\"session_password\"]')\n",
    "password.send_keys('Wakalkar@123')\n",
    "\n",
    "\n"
   ]
  },
  {
   "cell_type": "code",
   "execution_count": 18,
   "id": "6ed69637",
   "metadata": {},
   "outputs": [],
   "source": [
    "SignInbutton = driver.find_element_by_xpath('//*[@id=\"main-content\"]/section[1]/div/div/form/button')\n",
    "SignInbutton.click();\n",
    "save_cookies(driver, cookies_location)\n",
    "driver.close()    "
   ]
  },
  {
   "cell_type": "code",
   "execution_count": 20,
   "id": "3bbcc904",
   "metadata": {},
   "outputs": [],
   "source": [
    "driver = webdriver.Chrome(executable_path = \"C:/Users/dell/Desktop/chromedriver.exe\")\n",
    "load_cookies(driver, cookies_location)\n",
    "driver.get(\"https://www.linkedin.com/mynetwork/invitation-manager/sent/\")"
   ]
  },
  {
   "cell_type": "code",
   "execution_count": null,
   "id": "5a29a478",
   "metadata": {},
   "outputs": [],
   "source": []
  },
  {
   "cell_type": "code",
   "execution_count": null,
   "id": "c460dd8a",
   "metadata": {},
   "outputs": [],
   "source": []
  }
 ],
 "metadata": {
  "kernelspec": {
   "display_name": "Python 3",
   "language": "python",
   "name": "python3"
  },
  "language_info": {
   "codemirror_mode": {
    "name": "ipython",
    "version": 3
   },
   "file_extension": ".py",
   "mimetype": "text/x-python",
   "name": "python",
   "nbconvert_exporter": "python",
   "pygments_lexer": "ipython3",
   "version": "3.8.8"
  }
 },
 "nbformat": 4,
 "nbformat_minor": 5
}
